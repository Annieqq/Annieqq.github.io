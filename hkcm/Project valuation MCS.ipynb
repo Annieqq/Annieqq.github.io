{
 "cells": [
  {
   "cell_type": "code",
   "execution_count": null,
   "metadata": {
    "collapsed": true
   },
   "outputs": [],
   "source": [
    "import numpy as np\n",
    "import matplotlib.pyplot as plt"
   ]
  },
  {
   "cell_type": "code",
   "execution_count": null,
   "metadata": {
    "collapsed": true
   },
   "outputs": [],
   "source": [
    "# Specify number of simulations to run\n",
    "iterations = 200"
   ]
  },
  {
   "cell_type": "code",
   "execution_count": null,
   "metadata": {
    "collapsed": true
   },
   "outputs": [],
   "source": [
    "# Specify discount rate\n",
    "WACC = 0.10"
   ]
  },
  {
   "cell_type": "code",
   "execution_count": null,
   "metadata": {
    "collapsed": true
   },
   "outputs": [],
   "source": [
    "# Assume cash-flow components are idependent and Normally distributed\n",
    "\n",
    "# Specify unit sales growth rate parameters\n",
    "mu_growth = 0.10\n",
    "sigma_growth = 0.08\n",
    "\n",
    "# Specify sale price parameters\n",
    "mu_price = 50\n",
    "sigma_price = 1\n",
    "\n",
    "# Specify variable cost parameters\n",
    "mu_vc = 25\n",
    "sigma_vc = 0.5\n",
    "\n",
    "# Specify fixed cost parameters\n",
    "mu_fc = 350000\n",
    "sigma_fc = 10000\n",
    "\n",
    "# Specify FA salvage value parameters\n",
    "mu_sv = 250000\n",
    "sigma_sv = 20000\n",
    "\n",
    "# Specify NWC recovery rate parameters\n",
    "mu_recovery = 0.97\n",
    "sigma_recovery = 0.01"
   ]
  },
  {
   "cell_type": "code",
   "execution_count": null,
   "metadata": {
    "collapsed": true
   },
   "outputs": [],
   "source": [
    "# Run simulations\n",
    "simulated_growth = np.random.randn((iterations)) * sigma_growth + mu_growth\n",
    "simulated_price = np.random.randn((iterations)) * sigma_price + mu_price\n",
    "simulated_vc = np.random.randn((iterations)) * sigma_vc + mu_vc\n",
    "simulated_fc = np.random.randn((iterations)) * sigma_fc + mu_fc\n",
    "simulated_sv = np.random.randn((iterations)) * sigma_sv + mu_sv\n",
    "simulated_recovery = np.random.randn((iterations)) * sigma_recovery + mu_recovery\n",
    "\n",
    "# Make sure recovery is capped at 100%\n",
    "simulated_recovery[simulated_recovery > 1.0] = 1.0"
   ]
  },
  {
   "cell_type": "code",
   "execution_count": null,
   "metadata": {
    "scrolled": false
   },
   "outputs": [],
   "source": [
    "# Show the simulated component distributions\n",
    "\n",
    "fig, axes = plt.subplots(3, 2, sharey=True, figsize=(10, 10), dpi=100)\n",
    "fig.suptitle('Simulated component distributions', fontsize=18)\n",
    "fig.tight_layout\n",
    "\n",
    "weights = np.ones(iterations) / iterations\n",
    "\n",
    "axes[0, 0].hist(simulated_growth, bins=500, weights=weights, facecolor='k')\n",
    "axes[0, 0].set_xlabel('Unit sales growth rate')\n",
    "axes[0, 0].set_ylabel('Frequency')\n",
    "\n",
    "axes[0, 1].hist(simulated_price, bins=500, weights=weights, facecolor='k')\n",
    "axes[0, 1].set_xlabel('Sale price')\n",
    "axes[0, 1].set_ylabel('Frequency')\n",
    "\n",
    "axes[1, 0].hist(simulated_vc, bins=500, weights=weights, facecolor='k')\n",
    "axes[1, 0].set_xlabel('Variable cost')\n",
    "axes[1, 0].set_ylabel('Frequency')\n",
    "\n",
    "axes[1, 1].hist(simulated_fc, bins=500, weights=weights, facecolor='k')\n",
    "axes[1, 1].set_xlabel('Fixed cost')\n",
    "axes[1, 1].set_ylabel('Frequency')\n",
    "\n",
    "axes[2, 0].hist(simulated_sv, bins=500, weights=weights, facecolor='k')\n",
    "axes[2, 0].set_xlabel('FA salvage value')\n",
    "axes[2, 0].set_ylabel('Frequency')\n",
    "\n",
    "axes[2, 1].hist(simulated_recovery, bins=500, weights=weights, facecolor='k')\n",
    "axes[2, 1].set_xlabel('NWC recovery rate')\n",
    "axes[2, 1].set_ylabel('Frequency')\n",
    "\n",
    "plt.show()"
   ]
  },
  {
   "cell_type": "code",
   "execution_count": null,
   "metadata": {
    "collapsed": true
   },
   "outputs": [],
   "source": [
    "# Compute OCF for each simulation\n",
    "\n",
    "units = 100000\n",
    "\n",
    "# Year 1 OCF\n",
    "depreciation_1 = 1000000\n",
    "tax_rate_1 = 0.45\n",
    "EBIT_1 = (units * (simulated_price - simulated_vc) - simulated_fc - depreciation_1)\n",
    "tax_1 = EBIT_1 * tax_rate_1\n",
    "OCF_1 = EBIT_1 + depreciation_1 - tax_1\n",
    "\n",
    "# Year 2 OCF\n",
    "depreciation_2 = 1000000\n",
    "tax_rate_2 = 0.45\n",
    "EBIT_2 = ((1 + simulated_growth) * units * (simulated_price - simulated_vc) - simulated_fc - depreciation_2)\n",
    "tax_2 = EBIT_2 * tax_rate_2\n",
    "OCF_2 = EBIT_2 + depreciation_2 - tax_2\n",
    "\n",
    "# Year 2 OCF\n",
    "depreciation_3 = 1000000\n",
    "tax_rate_3 = 0.45\n",
    "EBIT_3 = ((1 + simulated_growth)**2 * units * (simulated_price - simulated_vc) - simulated_fc - depreciation_3)\n",
    "tax_3 = EBIT_3 * tax_rate_3\n",
    "OCF_3 = EBIT_3 + depreciation_3 - tax_3"
   ]
  },
  {
   "cell_type": "code",
   "execution_count": null,
   "metadata": {},
   "outputs": [],
   "source": [
    "# Show the simulated OCF distributions\n",
    "\n",
    "fig, axes = plt.subplots(3, 1, sharex=True, figsize=(10, 10), dpi=100)\n",
    "fig.suptitle('Simulated OCF distributions', fontsize=18)\n",
    "fig.tight_layout\n",
    "\n",
    "weights = np.ones(iterations) / iterations\n",
    "\n",
    "axes[0].hist(OCF_1, bins=500, weights=weights, facecolor='k')\n",
    "axes[0].set_xlabel('Year 1')\n",
    "axes[0].set_ylabel('Frequency')\n",
    "\n",
    "axes[1].hist(OCF_2, bins=500, weights=weights, facecolor='k')\n",
    "axes[1].set_xlabel('Year 2')\n",
    "axes[1].set_ylabel('Frequency')\n",
    "\n",
    "axes[2].hist(OCF_3, bins=500, weights=weights, facecolor='k')\n",
    "axes[2].set_xlabel('Year 3')\n",
    "axes[2].set_ylabel('Frequency')\n",
    "\n",
    "plt.show()"
   ]
  },
  {
   "cell_type": "code",
   "execution_count": null,
   "metadata": {
    "collapsed": true
   },
   "outputs": [],
   "source": [
    "# Compute CF from project for each simulation\n",
    "\n",
    "final_bv = 0\n",
    "tax_sv = 0.45\n",
    "\n",
    "# Year 0 CF\n",
    "CF_0 = -3500000\n",
    "\n",
    "# Year 1 CF\n",
    "CF_1 = OCF_1\n",
    "\n",
    "# Year 2 CF\n",
    "CF_2 = OCF_2\n",
    "\n",
    "# Year 3 CF\n",
    "CF_3 = OCF_3 + (500000 * simulated_recovery) + (simulated_sv - final_bv) * (1 - tax_sv)"
   ]
  },
  {
   "cell_type": "code",
   "execution_count": null,
   "metadata": {},
   "outputs": [],
   "source": [
    "# Show the simulated final CF distribution\n",
    "\n",
    "fig, axes = plt.subplots(1, 1, sharex=True, figsize=(10, 3), dpi=100)\n",
    "fig.suptitle('Simulated Terminal CF distribution', fontsize=18)\n",
    "fig.tight_layout\n",
    "\n",
    "weights = np.ones(iterations) / iterations\n",
    "\n",
    "axes.hist(CF_3, bins=500, weights=weights, facecolor='k')\n",
    "axes.set_xlabel('Year 1')\n",
    "axes.set_ylabel('Frequency')\n",
    "\n",
    "plt.show()"
   ]
  },
  {
   "cell_type": "code",
   "execution_count": null,
   "metadata": {
    "collapsed": true
   },
   "outputs": [],
   "source": [
    "# Compute NPV from project for each simulation\n",
    "\n",
    "NPV = CF_0 + CF_1/(1+WACC) + CF_2/(1+WACC)**2 + CF_3/(1+WACC)**3"
   ]
  },
  {
   "cell_type": "code",
   "execution_count": null,
   "metadata": {},
   "outputs": [],
   "source": [
    "# Show the simulated NPV distribution\n",
    "\n",
    "fig, axes = plt.subplots(2, 1, sharex=True, figsize=(10, 6), dpi=100)\n",
    "fig.suptitle('Simulated NPV distribution', fontsize=18)\n",
    "fig.tight_layout\n",
    "\n",
    "weights = np.ones(iterations) / iterations\n",
    "\n",
    "axes[0].hist(NPV, bins=500, weights=weights, facecolor='k')\n",
    "axes[0].set_ylabel('Frequency')\n",
    "\n",
    "axes[1].hist(NPV, bins=500, cumulative=True, weights=weights, facecolor='k')\n",
    "axes[1].set_ylabel('Cumulative Frequency')\n",
    "\n",
    "plt.show()"
   ]
  },
  {
   "cell_type": "code",
   "execution_count": null,
   "metadata": {},
   "outputs": [],
   "source": [
    "NPV_sorted = np.sort(NPV)\n",
    "NPV_sorted[:30]"
   ]
  },
  {
   "cell_type": "code",
   "execution_count": null,
   "metadata": {},
   "outputs": [],
   "source": [
    "# Pr(NPV>0)\n",
    "\n",
    "prob = 100 * np.sum(NPV > 0) / iterations\n",
    "print()\n",
    "print('There is {:.2f}% chance that the NPV is positive'.format(prob))"
   ]
  },
  {
   "cell_type": "code",
   "execution_count": null,
   "metadata": {},
   "outputs": [],
   "source": [
    "# 95% Value at Risk\n",
    "\n",
    "VaR_95 = np.percentile(NPV, 5)\n",
    "print()\n",
    "print('With 95% confidence, we expect that the worst NPV will not fall below ${:.2f}'.format(VaR_95))"
   ]
  },
  {
   "cell_type": "markdown",
   "metadata": {},
   "source": [
    "# Possible extensions\n",
    "\n",
    "1. Correlated components\n",
    "2. Non-Normal distributions"
   ]
  },
  {
   "cell_type": "markdown",
   "metadata": {},
   "source": [
    "# Assignment 4\n",
    "\n",
    "1. Take the 200 simulated cash flows from project\n",
    "2. Apply your aggressive and conservative WACCs to compute (200x2) NPVs\n",
    "3. Plot your results in 2 histograms\n",
    "4. Evaluate the business project based on the histograms\n",
    "5. Email your *.pdf to me on or before 20 April 2018"
   ]
  },
  {
   "cell_type": "code",
   "execution_count": null,
   "metadata": {
    "collapsed": true
   },
   "outputs": [],
   "source": [
    "import pandas as pd\n",
    "\n",
    "df = pd.DataFrame(NPV)\n",
    "df.to_excel('assignemnt-4-data.xlsx', index=False)"
   ]
  }
 ],
 "metadata": {
  "kernelspec": {
   "display_name": "Python 3",
   "language": "python",
   "name": "python3"
  },
  "language_info": {
   "codemirror_mode": {
    "name": "ipython",
    "version": 3
   },
   "file_extension": ".py",
   "mimetype": "text/x-python",
   "name": "python",
   "nbconvert_exporter": "python",
   "pygments_lexer": "ipython3",
   "version": "3.6.3"
  }
 },
 "nbformat": 4,
 "nbformat_minor": 2
}
